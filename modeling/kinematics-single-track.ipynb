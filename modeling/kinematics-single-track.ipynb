{
 "cells": [
  {
   "cell_type": "markdown",
   "metadata": {},
   "source": [
    "# Single Track Kinemematic Study\n",
    "\n",
    "This code experiments with the single track kinematic model commonly used in autonomous vehicle research."
   ]
  },
  {
   "cell_type": "code",
   "execution_count": 2,
   "metadata": {},
   "outputs": [],
   "source": [
    "import matplotlib as plt\n",
    "import numpy as np\n",
    "from scipy.integrate import odeint\n",
    "from math import cos, sin, pi"
   ]
  },
  {
   "cell_type": "markdown",
   "metadata": {},
   "source": [
    "Assume there is a 2D intertial frame ($\\mathbb{R}^2$) with basis vectors $e_x$ and $e_y$.\n",
    "The single track kinematic model assumes two non-slip wheels with center points that are co-linear along a rigid link with length $l$.\n",
    "\n",
    "There are two important angles in the model:\n",
    "\n",
    "1. $\\theta$ - the angle between $p_f - p_r$ and $e_x$\n",
    "2. $\\delta$ - the rotation angle between the front wheel's forward velocity, $\\dot{p}_f$, and $p_f - p_r$.\n",
    "\n",
    "Let's consider the model for the front wheel:\n",
    "\n",
    "$\\dot{x}_f = v_f cos(\\theta + \\delta)$\n",
    "\n",
    "$\\dot{y}_f = v_f cos(\\theta + \\delta)$\n",
    "\n",
    "$\\dot{\\theta} = \\frac{v_f}{l}\\sin{\\delta}$\n",
    "\n",
    "\n",
    "The front and rear wheel speeds are related by:\n",
    "$$\n",
    "\\frac{v_r}{v_f}=\\cos{\\theta}\n",
    "$$\n",
    "\n",
    "The control problem involves choosing a forward speed, $v_f \\in {[v_{min},v_{max}]}$, and some steering angle, $\\delta \\in {[\\delta_{min},\\delta_{mx}]}$.\n",
    "\n",
    "Time to throw some numerical tools at this model..."
   ]
  },
  {
   "cell_type": "code",
   "execution_count": 7,
   "metadata": {},
   "outputs": [],
   "source": [
    "def single_track_front(vf, l, theta, delta):\n",
    "    '''\n",
    "    Parameters:\n",
    "    vf (float) - front wheel speed\n",
    "    l (float) - length of rigid link between front and rear wheel\n",
    "    theta (float) - angle between body link and inertial frame x-axis\n",
    "    delta (float) - steering angle\n",
    "    '''\n",
    "    x_dot = vf * cos(theta + delta)\n",
    "    y_dot = vf * sin(theta + delta)\n",
    "    theta_dot = (vf / l)*sin(delta)\n",
    "    return [x_dot, y_dot, theta_dot]"
   ]
  },
  {
   "cell_type": "code",
   "execution_count": 8,
   "metadata": {},
   "outputs": [
    {
     "data": {
      "text/plain": [
       "[0.9950041652780257, 0.09983341664682815, 0.09983341664682815]"
      ]
     },
     "execution_count": 8,
     "metadata": {},
     "output_type": "execute_result"
    }
   ],
   "source": [
    "# Test the function out to make sure it works with reasonable input.\n",
    "single_track_front(1.0, 1.0, 0.0, 0.1)"
   ]
  }
 ],
 "metadata": {
  "kernelspec": {
   "display_name": "Python 3",
   "language": "python",
   "name": "python3"
  },
  "language_info": {
   "codemirror_mode": {
    "name": "ipython",
    "version": 3
   },
   "file_extension": ".py",
   "mimetype": "text/x-python",
   "name": "python",
   "nbconvert_exporter": "python",
   "pygments_lexer": "ipython3",
   "version": "3.6.4"
  }
 },
 "nbformat": 4,
 "nbformat_minor": 2
}
